{
 "cells": [
  {
   "cell_type": "code",
   "execution_count": 2,
   "metadata": {},
   "outputs": [],
   "source": [
    "import numpy as np\n",
    "import matplotlib.pyplot as plt\n",
    "import scipy\n",
    "from scipy.sparse import csr_matrix, csc_matrix, find, coo_matrix\n",
    "from scipy.sparse import eye, spdiags\n",
    "from scipy.sparse.linalg import spsolve\n",
    "from scipy.linalg import eigh\n",
    "from scipy.io import  savemat\n",
    "import networkx as nx\n",
    "import pylab as pyl\n",
    "import time"
   ]
  },
  {
   "cell_type": "markdown",
   "metadata": {},
   "source": [
    "Your Python environment should include `numpy`, `scipy`, `matplotlib` and `networkx`"
   ]
  },
  {
   "cell_type": "code",
   "execution_count": 3,
   "metadata": {},
   "outputs": [],
   "source": [
    "import sys\n",
    "sys.path.append(\"./utils\")\n",
    "import graph_utils as glu "
   ]
  },
  {
   "cell_type": "markdown",
   "metadata": {},
   "source": [
    "# Implementation of Graph class"
   ]
  },
  {
   "cell_type": "markdown",
   "metadata": {},
   "source": [
    "## Graph class"
   ]
  },
  {
   "cell_type": "code",
   "execution_count": 5,
   "metadata": {},
   "outputs": [],
   "source": [
    "class Graph(nx.Graph):\n",
    "    def __init__(self, R, N):\n",
    "        \"\"\"\n",
    "        Initialize the mesh from a path\n",
    "        \"\"\"\n",
    "        self.G = nx.full_rary_tree(R, N)\n",
    "        self.nodes = self.G.nodes\n",
    "        self.edges = self.G.edges\n",
    "        self.A = None\n",
    "        self.D = None\n",
    "        self.L\n",
    "\n",
    "# INit from edges list or adjacency dict\n",
    "    def clear(self):\n",
    "        self.G.clear()\n",
    "        self.nodes = None\n",
    "        self.edges = None\n",
    "\n",
    "    def get_neighbors(self, node_ind):\n",
    "        return self.G.adj[node_ind]\n",
    "    \n",
    "    def get_degree(self, node_ind):\n",
    "        return self.G.degree[node_ind]\n",
    "    \n",
    "    def get_nodes(self) -> list:\n",
    "        return list(self.nodes) \n",
    "\n",
    "    def get_edges(self) -> list:\n",
    "        return list(self.edges)\n",
    "    \n",
    "    def add_edge(self, node1:int, node2:int):\n",
    "        self.G.add_edge(node1, node2)\n",
    "        # Update fields\n",
    "        self.edges = self.G.edges\n",
    "        self.nodes = self.G.nodes\n",
    "\n",
    "    def add_node(self, node:int):\n",
    "       self.G.add_edge(node)\n",
    "       # Update fields\n",
    "       self.edges = self.G.edges\n",
    "       self.nodes = self.G.nodes\n",
    "\n",
    "    def compute_adj_matrix(self):\n",
    "        self.A =  nx.adjacency_matrix(self.G, nodelist=None, dtype=None, weight=None) # Change weight ?\n",
    "        \n",
    "    def compute_incidence_matrix(self):\n",
    "        self.D = nx.incidence_matrix(self.G, nodelist=None, edgelist=None, oriented=False, weight=None)\n",
    "\n",
    "    def compute_laplacian_matrix(self):\n",
    "        self.L = nx.laplacian_matrix(self.G, nodelist=None, weight='weight')\n",
    "        # There is also normalized laplacian matrix, directed laplacian matrix --> Should we take those ?\n",
    "        \n",
    "    def compute_heatkernel(self, eigenvalues, eigenvectors):\n",
    "        pass\n",
    "        #TODO use of lambdify to compute only once a Callable\n"
   ]
  },
  {
   "cell_type": "code",
   "execution_count": 6,
   "metadata": {},
   "outputs": [],
   "source": [
    "def diffuse(f, graph:Graph, t):\n",
    "    \"\"\"\n",
    "    Diffuse a function f on a mesh for time t\n",
    "    \n",
    "    Input\n",
    "    --------------\n",
    "    f       : (n,) - function values\n",
    "    graph    : Graph - graph on which to diffuse\n",
    "    t       : float - time for which to diffuse\n",
    "    \n",
    "    Output\n",
    "    --------------\n",
    "    f_diffuse : (n,) values of f after diffusion\n",
    "    \"\"\"\n",
    "\n",
    "\n",
    "    graph.compute_laplacian()\n",
    "    \n",
    "    f_diffuse = scipy.sparse.linalg.spsolve(graph.A + t*graph.L, graph.A@f)\n",
    "    \n",
    "    return f_diffuse"
   ]
  },
  {
   "cell_type": "markdown",
   "metadata": {},
   "source": [
    "## Kernel function"
   ]
  },
  {
   "cell_type": "code",
   "execution_count": 7,
   "metadata": {},
   "outputs": [],
   "source": [
    "def kernel(G:Graph, entropy_reg = 0.1, deg = 2):\n",
    "    n = len(G.nodes)\n",
    "    dist = np.zeros((n,n))\n",
    "    for (i,source_node) in enumerate(G.nodes):\n",
    "        for (j,target_node) in enumerate(G.nodes):\n",
    "            dist[i,j] = nx.shortest_path_length(G,source = source_node, target = target_node)\n",
    "    if deg == 1:\n",
    "        return np.exp(-dist/entropy_reg), dist\n",
    "    else:\n",
    "        return np.exp(-dist**2/entropy_reg), dist**2"
   ]
  },
  {
   "cell_type": "code",
   "execution_count": null,
   "metadata": {},
   "outputs": [],
   "source": [
    "K, dist = kernel(G)\n",
    "f_kernel = lambda x: np.dot(K,x)"
   ]
  },
  {
   "cell_type": "markdown",
   "metadata": {},
   "source": [
    "### Example"
   ]
  },
  {
   "cell_type": "code",
   "execution_count": 27,
   "metadata": {},
   "outputs": [],
   "source": [
    "#TODO"
   ]
  },
  {
   "cell_type": "markdown",
   "metadata": {},
   "source": [
    "## Diffusion of a Dirac function"
   ]
  },
  {
   "cell_type": "code",
   "execution_count": null,
   "metadata": {},
   "outputs": [],
   "source": [
    "#TODO"
   ]
  }
 ],
 "metadata": {
  "kernelspec": {
   "display_name": "Python (Meshplot)",
   "language": "python",
   "name": "meshplot"
  },
  "language_info": {
   "codemirror_mode": {
    "name": "ipython",
    "version": 3
   },
   "file_extension": ".py",
   "mimetype": "text/x-python",
   "name": "python",
   "nbconvert_exporter": "python",
   "pygments_lexer": "ipython3",
   "version": "3.9.18"
  }
 },
 "nbformat": 4,
 "nbformat_minor": 2
}
