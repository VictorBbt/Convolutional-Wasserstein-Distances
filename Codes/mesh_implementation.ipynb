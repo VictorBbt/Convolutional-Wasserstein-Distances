{
 "cells": [
  {
   "cell_type": "code",
   "execution_count": 1,
   "metadata": {},
   "outputs": [],
   "source": [
    "import numpy as np\n",
    "import matplotlib.pyplot as plt\n",
    "import scipy\n",
    "from scipy.sparse import csr_matrix, csc_matrix, find, coo_matrix\n",
    "from scipy.sparse import eye, spdiags\n",
    "from scipy.sparse.linalg import spsolve\n",
    "from scipy.linalg import eigh\n",
    "from scipy.io import  savemat\n"
   ]
  },
  {
   "cell_type": "markdown",
   "metadata": {},
   "source": [
    "Your Python environment should include `numpy`, `scipy`, `matplotlib` and `meshplot`. The latter can be installed from conda using:\n",
    "><code> conda install -c conda-forge meshplot\n",
    "</code>"
   ]
  },
  {
   "cell_type": "code",
   "execution_count": 2,
   "metadata": {},
   "outputs": [],
   "source": [
    "import sys\n",
    "sys.path.append(\"./utils\")\n",
    "import mesh_utils as plu # Follow the above procedure\n",
    "import wasserstein_utils as wass\n",
    "import diffusion_utils as diff\n",
    "from IPython.display import display, HTML"
   ]
  },
  {
   "cell_type": "markdown",
   "metadata": {},
   "source": [
    "# Implementation of 3D meshes class"
   ]
  },
  {
   "cell_type": "markdown",
   "metadata": {},
   "source": [
    "## Read OFF files"
   ]
  },
  {
   "cell_type": "code",
   "execution_count": 3,
   "metadata": {},
   "outputs": [],
   "source": [
    "def read_off(filepath):\n",
    "    \"\"\"\n",
    "    Reads a simple .off file\n",
    "    \n",
    "    Input\n",
    "    --------------\n",
    "    filepath : str - path to the .off file\n",
    "    \n",
    "    Output\n",
    "    --------------\n",
    "    vertices : (n,3) array of vertex coordinates (float)\n",
    "    faces    : (m,3) array of faces defined by vertices index (integers)\n",
    "    \"\"\"\n",
    "    \n",
    "    with open(filepath, 'r') as f:\n",
    "        f.readline() # First line\n",
    "        n_vertices, n_triangles, _ = f.readline().strip().split() # nb of vertices triangles and 0\n",
    "        \n",
    "        vertices, faces = [], []\n",
    "\n",
    "        for i in range(int(n_vertices)):\n",
    "            x, y, z = f.readline().strip().split()\n",
    "            vertices.append([float(x), float(y), float(z)])\n",
    "\n",
    "        for j in range(int(n_triangles)):\n",
    "            _, i, j , k = f.readline().strip().split()\n",
    "            faces.append([int(i), int(j), int(k)])\n",
    "    \n",
    "    return np.array(vertices), np.array(faces)"
   ]
  },
  {
   "cell_type": "markdown",
   "metadata": {},
   "source": [
    "## Mesh class"
   ]
  },
  {
   "cell_type": "code",
   "execution_count": 4,
   "metadata": {},
   "outputs": [],
   "source": [
    "class Mesh3D:\n",
    "    def __init__(self, path):\n",
    "        \"\"\"\n",
    "        Initialize the mesh from a path\n",
    "        \"\"\"\n",
    "        self.vertices, self.faces = read_off(path)\n",
    "        self.A = None\n",
    "        self.W = None\n",
    "\n",
    "\n",
    "    def compute_faces_areas(self):\n",
    "        \"\"\"\n",
    "        Compute the area of each face\n",
    "        \n",
    "        Input\n",
    "        --------------\n",
    "        vertices : (n,3) - vertex coordinates\n",
    "        faces    : (m,3) - faces defined by vertex indices\n",
    "        \n",
    "        Output\n",
    "        --------------\n",
    "        faces_areas : (m,) - area of each face\n",
    "        \"\"\"\n",
    "        v1 = self.vertices[self.faces[:,0]]  # (m,3)\n",
    "        v2 = self.vertices[self.faces[:,1]]  # (m,3)\n",
    "        v3 = self.vertices[self.faces[:,2]]  # (m,3)\n",
    "        faces_areas = 0.5 * np.linalg.norm(np.cross(v2-v1,v3-v1),axis=1)  # (m,)\n",
    "\n",
    "        return faces_areas\n",
    "    \n",
    "    def area_matrix(self):\n",
    "        \"\"\"\n",
    "        Compute the diagonal area matrix\n",
    "        \n",
    "        Input\n",
    "        --------------\n",
    "        vertices : (n,3) - vertex coordinates\n",
    "        faces    : (m,3) - faces defined by vertex indices\n",
    "        \n",
    "        Output\n",
    "        --------------\n",
    "        A : (n,n) sparse matrix in DIAgonal format\n",
    "        \"\"\"\n",
    "\n",
    "        N = self.vertices.shape[0]\n",
    "\n",
    "        # Compute face area\n",
    "\n",
    "        v1 = self.vertices[self.faces[:,0]]  # (m,3)\n",
    "        v2 = self.vertices[self.faces[:,1]]  # (m,3)\n",
    "        v3 = self.vertices[self.faces[:,2]]  # (m,3)\n",
    "        faces_areas = 0.5 * np.linalg.norm(np.cross(v2-v1,v3-v1),axis=1)  # (m,)\n",
    "\n",
    "        I = np.concatenate([self.faces[:,0], self.faces[:,1], self.faces[:,2]])\n",
    "        J = np.zeros_like(I)\n",
    "        V = np.concatenate([faces_areas, faces_areas, faces_areas])/3\n",
    "\n",
    "        # Get array of vertex areas\n",
    "        vertex_areas = np.array(scipy.sparse.coo_matrix((V, (I, J)), shape=(N, 1)).todense()).flatten()\n",
    "\n",
    "        A = scipy.sparse.dia_matrix((vertex_areas,0), shape=(N, N))\n",
    "        self.A = A\n",
    "        return A\n",
    "    \n",
    "    def cotan_matrix(self):\n",
    "        \"\"\"\n",
    "        Compute the stiffness matrix\n",
    "        \n",
    "        Input\n",
    "        --------------\n",
    "        vertices : (n,3) - vertex coordinates\n",
    "        faces    : (m,3) - faces defined by vertex indices\n",
    "        \n",
    "        Output\n",
    "        --------------\n",
    "        W : (n,n) sparse matrix in CSC format\n",
    "        \"\"\"\n",
    "        N = self.vertices.shape[0]\n",
    "\n",
    "        v1 = self.vertices[self.faces[:,0]]  # (m,3)\n",
    "        v2 = self.vertices[self.faces[:,1]]  # (m,3)\n",
    "        v3 = self.vertices[self.faces[:,2]]  # (m,3)\n",
    "\n",
    "        # Edge lengths indexed by opposite vertex\n",
    "        u1 = v3 - v2\n",
    "        u2 = v1 - v3\n",
    "        u3 = v2 - v1\n",
    "\n",
    "        L1 = np.linalg.norm(u1,axis=1)  # (m,)\n",
    "        L2 = np.linalg.norm(u2,axis=1)  # (m,)\n",
    "        L3 = np.linalg.norm(u3,axis=1)  # (m,)\n",
    "\n",
    "        # Compute cosine of angles\n",
    "        A1 = np.einsum('ij,ij->i', -u2, u3) / (L2*L3)  # (m,)\n",
    "        A2 = np.einsum('ij,ij->i', u1, -u3) / (L1*L3)  # (m,)\n",
    "        A3 = np.einsum('ij,ij->i', -u1, u2) / (L1*L2)  # (m,)\n",
    "\n",
    "        # Use cot(arccos(x)) = x/sqrt(1-x^2)\n",
    "        I = np.concatenate([self.faces[:,0], self.faces[:,1], self.faces[:,2]])\n",
    "        J = np.concatenate([self.faces[:,1], self.faces[:,2], self.faces[:,0]])\n",
    "        S = np.concatenate([A3,A1,A2])\n",
    "        S = 0.5 * S / np.sqrt(1-S**2)\n",
    "\n",
    "        In = np.concatenate([I, J, I, J])\n",
    "        Jn = np.concatenate([J, I, I, J])\n",
    "        Sn = np.concatenate([-S, -S, S, S])\n",
    "\n",
    "        W = scipy.sparse.coo_matrix((Sn, (In, Jn)), shape=(N, N)).tocsc()\n",
    "        self.W = W\n",
    "        return W\n",
    "    \n",
    "    def compute_laplacian(self):\n",
    "        self.A = self.area_matrix()\n",
    "        self.W = self.cotan_matrix()\n",
    "\n",
    "    def compute_eigendecomposition(self, K:int):\n",
    "        if self.W is None or self.A is None:\n",
    "            self.compute_laplacian()\n",
    "        self.eigenvalues, self.eigenvectors = scipy.sparse.linalg.eigsh(self.W, M=self.A,\n",
    "                                                                  k=K, sigma=-0.01)\n",
    "        \n",
    "    def compute_heatkernel(self, eigenvalues, eigenvectors):\n",
    "        pass\n",
    "        #TODO use of lambdify to compute only once a Callable\n"
   ]
  },
  {
   "cell_type": "code",
   "execution_count": 5,
   "metadata": {},
   "outputs": [],
   "source": [
    "def diffuse(f, mesh:Mesh3D, t):\n",
    "    \"\"\"\n",
    "    Diffuse a function f on a mesh for time t\n",
    "    \n",
    "    Input\n",
    "    --------------\n",
    "    f       : (n,) - function values\n",
    "    mesh    : MyMesh - mesh on which to diffuse\n",
    "    t       : float - time for which to diffuse\n",
    "    \n",
    "    Output\n",
    "    --------------\n",
    "    f_diffuse : (n,) values of f after diffusion\n",
    "    \"\"\"\n",
    "\n",
    "\n",
    "    mesh.compute_laplacian()\n",
    "    \n",
    "    f_diffuse = scipy.sparse.linalg.spsolve(mesh.A + t*mesh.W, mesh.A@f)\n",
    "    \n",
    "    return f_diffuse"
   ]
  },
  {
   "cell_type": "markdown",
   "metadata": {},
   "source": [
    "### Example"
   ]
  },
  {
   "cell_type": "code",
   "execution_count": 6,
   "metadata": {},
   "outputs": [],
   "source": [
    "mesh = Mesh3D(\"../data/nefertiti.off\")"
   ]
  },
  {
   "cell_type": "markdown",
   "metadata": {},
   "source": [
    "### Visualizing the Eigenfunctions of the Laplacian"
   ]
  },
  {
   "cell_type": "code",
   "execution_count": 7,
   "metadata": {},
   "outputs": [
    {
     "data": {
      "application/vnd.jupyter.widget-view+json": {
       "model_id": "6c7c744cf8414dafa8cec29fbacec543",
       "version_major": 2,
       "version_minor": 0
      },
      "text/plain": [
       "Renderer(camera=PerspectiveCamera(children=(DirectionalLight(color='white', intensity=0.6, position=(0.0293350…"
      ]
     },
     "metadata": {},
     "output_type": "display_data"
    }
   ],
   "source": [
    "p = plu.plot(mesh)\n",
    "# html = p.to_html(imports=True, html_frame=False)\n",
    "# display(HTML(html))"
   ]
  },
  {
   "cell_type": "code",
   "execution_count": 8,
   "metadata": {},
   "outputs": [],
   "source": [
    "mesh.compute_eigendecomposition(K=100)"
   ]
  },
  {
   "cell_type": "code",
   "execution_count": 9,
   "metadata": {},
   "outputs": [
    {
     "data": {
      "application/vnd.jupyter.widget-view+json": {
       "model_id": "5d69f42f7b99470a9ffe249fd670816d",
       "version_major": 2,
       "version_minor": 0
      },
      "text/plain": [
       "Renderer(camera=PerspectiveCamera(children=(DirectionalLight(color='white', intensity=0.6, position=(0.0293350…"
      ]
     },
     "metadata": {},
     "output_type": "display_data"
    },
    {
     "data": {
      "text/plain": [
       "<meshplot.Viewer.Viewer at 0x103c02890>"
      ]
     },
     "execution_count": 9,
     "metadata": {},
     "output_type": "execute_result"
    }
   ],
   "source": [
    "first_eigenfunction = mesh.eigenvalues[0]*mesh.eigenvectors[:, 0]\n",
    "plu.plot(mesh, first_eigenfunction, colormap = \"coolwarm\")"
   ]
  },
  {
   "cell_type": "code",
   "execution_count": 10,
   "metadata": {},
   "outputs": [
    {
     "data": {
      "application/vnd.jupyter.widget-view+json": {
       "model_id": "df0d0d3ff9894b439a9b7502c302101a",
       "version_major": 2,
       "version_minor": 0
      },
      "text/plain": [
       "Renderer(camera=PerspectiveCamera(children=(DirectionalLight(color='white', intensity=0.6, position=(0.0293350…"
      ]
     },
     "metadata": {},
     "output_type": "display_data"
    },
    {
     "data": {
      "text/plain": [
       "<meshplot.Viewer.Viewer at 0x117d36690>"
      ]
     },
     "execution_count": 10,
     "metadata": {},
     "output_type": "execute_result"
    }
   ],
   "source": [
    "last_eigenfunction = mesh.eigenvalues[-1]*mesh.eigenvectors[:, -1]\n",
    "plu.plot(mesh, last_eigenfunction, colormap = \"coolwarm\")"
   ]
  },
  {
   "cell_type": "markdown",
   "metadata": {},
   "source": [
    "## Diffusion of a Dirac function"
   ]
  },
  {
   "cell_type": "code",
   "execution_count": 12,
   "metadata": {},
   "outputs": [
    {
     "data": {
      "application/vnd.jupyter.widget-view+json": {
       "model_id": "011ccbe4c72e491d9975d657a2dedd08",
       "version_major": 2,
       "version_minor": 0
      },
      "text/plain": [
       "Renderer(camera=PerspectiveCamera(children=(DirectionalLight(color='white', intensity=0.6, position=(0.0293350…"
      ]
     },
     "metadata": {},
     "output_type": "display_data"
    },
    {
     "data": {
      "text/plain": [
       "<meshplot.Viewer.Viewer at 0x117d70690>"
      ]
     },
     "execution_count": 12,
     "metadata": {},
     "output_type": "execute_result"
    }
   ],
   "source": [
    "# Dirac on a random vertex\n",
    "\n",
    "dirac = np.array([0]*(mesh.vertices.shape[0]))\n",
    "dirac[20]= 1\n",
    "dirac[150]= 1\n",
    "dirac_diffused = diff.diffuse_mesh(dirac, mesh, 0.1)\n",
    "\n",
    "plu.plot(mesh, dirac_diffused, colormap=\"coolwarm\")"
   ]
  },
  {
   "cell_type": "markdown",
   "metadata": {},
   "source": [
    "## Barycenter"
   ]
  },
  {
   "cell_type": "code",
   "execution_count": 34,
   "metadata": {},
   "outputs": [
    {
     "data": {
      "application/vnd.jupyter.widget-view+json": {
       "model_id": "8fb73ce87f824edeaac73309a7c2fe32",
       "version_major": 2,
       "version_minor": 0
      },
      "text/plain": [
       "Renderer(camera=PerspectiveCamera(children=(DirectionalLight(color='white', intensity=0.6, position=(0.0293350…"
      ]
     },
     "metadata": {},
     "output_type": "display_data"
    },
    {
     "data": {
      "application/vnd.jupyter.widget-view+json": {
       "model_id": "39e56ea7cd2f48a2a86a9d968dec0fb1",
       "version_major": 2,
       "version_minor": 0
      },
      "text/plain": [
       "Renderer(camera=PerspectiveCamera(children=(DirectionalLight(color='white', intensity=0.6, position=(0.0293350…"
      ]
     },
     "metadata": {},
     "output_type": "display_data"
    },
    {
     "data": {
      "application/vnd.jupyter.widget-view+json": {
       "model_id": "ca1dcd0dd45a44f8a54efb29ac6b907d",
       "version_major": 2,
       "version_minor": 0
      },
      "text/plain": [
       "Renderer(camera=PerspectiveCamera(children=(DirectionalLight(color='white', intensity=0.6, position=(0.0293350…"
      ]
     },
     "metadata": {},
     "output_type": "display_data"
    },
    {
     "data": {
      "application/vnd.jupyter.widget-view+json": {
       "model_id": "09bfb6f3e35344bfa0dc30ed20520d15",
       "version_major": 2,
       "version_minor": 0
      },
      "text/plain": [
       "Renderer(camera=PerspectiveCamera(children=(DirectionalLight(color='white', intensity=0.6, position=(0.0293350…"
      ]
     },
     "metadata": {},
     "output_type": "display_data"
    },
    {
     "data": {
      "application/vnd.jupyter.widget-view+json": {
       "model_id": "8ef05411d3f045c2822448466b380290",
       "version_major": 2,
       "version_minor": 0
      },
      "text/plain": [
       "Renderer(camera=PerspectiveCamera(children=(DirectionalLight(color='white', intensity=0.6, position=(0.0293350…"
      ]
     },
     "metadata": {},
     "output_type": "display_data"
    },
    {
     "data": {
      "application/vnd.jupyter.widget-view+json": {
       "model_id": "92a789c5491a448bb9e6112daefcb240",
       "version_major": 2,
       "version_minor": 0
      },
      "text/plain": [
       "Renderer(camera=PerspectiveCamera(children=(DirectionalLight(color='white', intensity=0.6, position=(0.0293350…"
      ]
     },
     "metadata": {},
     "output_type": "display_data"
    },
    {
     "data": {
      "application/vnd.jupyter.widget-view+json": {
       "model_id": "e077878acf9a42ee965047768b90cd47",
       "version_major": 2,
       "version_minor": 0
      },
      "text/plain": [
       "Renderer(camera=PerspectiveCamera(children=(DirectionalLight(color='white', intensity=0.6, position=(0.0293350…"
      ]
     },
     "metadata": {},
     "output_type": "display_data"
    },
    {
     "data": {
      "application/vnd.jupyter.widget-view+json": {
       "model_id": "d75497f1414c4a87a7300812aed061e6",
       "version_major": 2,
       "version_minor": 0
      },
      "text/plain": [
       "Renderer(camera=PerspectiveCamera(children=(DirectionalLight(color='white', intensity=0.6, position=(0.0293350…"
      ]
     },
     "metadata": {},
     "output_type": "display_data"
    },
    {
     "data": {
      "application/vnd.jupyter.widget-view+json": {
       "model_id": "9ea77c53ef974e9ea086d57e5596ae4d",
       "version_major": 2,
       "version_minor": 0
      },
      "text/plain": [
       "Renderer(camera=PerspectiveCamera(children=(DirectionalLight(color='white', intensity=0.6, position=(0.0293350…"
      ]
     },
     "metadata": {},
     "output_type": "display_data"
    },
    {
     "data": {
      "application/vnd.jupyter.widget-view+json": {
       "model_id": "945b6e2281b04679b8868a718a0bb64e",
       "version_major": 2,
       "version_minor": 0
      },
      "text/plain": [
       "Renderer(camera=PerspectiveCamera(children=(DirectionalLight(color='white', intensity=0.6, position=(0.0293350…"
      ]
     },
     "metadata": {},
     "output_type": "display_data"
    },
    {
     "data": {
      "application/vnd.jupyter.widget-view+json": {
       "model_id": "049de822f6094b1488474bc784d7a2a1",
       "version_major": 2,
       "version_minor": 0
      },
      "text/plain": [
       "Renderer(camera=PerspectiveCamera(children=(DirectionalLight(color='white', intensity=0.6, position=(0.0293350…"
      ]
     },
     "metadata": {},
     "output_type": "display_data"
    }
   ],
   "source": [
    "entropy = 5\n",
    "\n",
    "f_heatkernel = lambda x: diff.diffuse_mesh(x, mesh, entropy/2)\n",
    "dirac1 = np.array([0]*(mesh.vertices.shape[0]))\n",
    "dirac2 = np.array([0]*(mesh.vertices.shape[0]))\n",
    "dirac1[20]= 1\n",
    "dirac2[150]= 1\n",
    "a = csr_matrix.diagonal(mesh.area_matrix().tocsr())\n",
    "\n",
    "for t in range(0,11):\n",
    "    barycenter_mu, error = wass.wasserstein_barycenter(np.array([dirac1,dirac2]).T, a, f_heatkernel,lambd=[t/10,1-t/10],n_iter=500)\n",
    "    plu.plot(mesh, barycenter_mu, colormap=\"coolwarm\")"
   ]
  }
 ],
 "metadata": {
  "kernelspec": {
   "display_name": "optimaltransport",
   "language": "python",
   "name": "python3"
  },
  "language_info": {
   "codemirror_mode": {
    "name": "ipython",
    "version": 3
   },
   "file_extension": ".py",
   "mimetype": "text/x-python",
   "name": "python",
   "nbconvert_exporter": "python",
   "pygments_lexer": "ipython3",
   "version": "3.11.6"
  }
 },
 "nbformat": 4,
 "nbformat_minor": 2
}
